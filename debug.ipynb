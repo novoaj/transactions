{
 "cells": [
  {
   "cell_type": "code",
   "execution_count": 3,
   "metadata": {},
   "outputs": [],
   "source": [
    "import pandas"
   ]
  },
  {
   "cell_type": "code",
   "execution_count": 13,
   "metadata": {},
   "outputs": [],
   "source": [
    "df = pandas.read_csv(\"transactions.csv\")"
   ]
  },
  {
   "cell_type": "code",
   "execution_count": 7,
   "metadata": {},
   "outputs": [
    {
     "data": {
      "text/html": [
       "<div>\n",
       "<style scoped>\n",
       "    .dataframe tbody tr th:only-of-type {\n",
       "        vertical-align: middle;\n",
       "    }\n",
       "\n",
       "    .dataframe tbody tr th {\n",
       "        vertical-align: top;\n",
       "    }\n",
       "\n",
       "    .dataframe thead th {\n",
       "        text-align: right;\n",
       "    }\n",
       "</style>\n",
       "<table border=\"1\" class=\"dataframe\">\n",
       "  <thead>\n",
       "    <tr style=\"text-align: right;\">\n",
       "      <th></th>\n",
       "      <th>payer</th>\n",
       "      <th>points</th>\n",
       "      <th>timestamp</th>\n",
       "    </tr>\n",
       "  </thead>\n",
       "  <tbody>\n",
       "    <tr>\n",
       "      <th>0</th>\n",
       "      <td>DANNON</td>\n",
       "      <td>1000</td>\n",
       "      <td>2020-11-02T14:00:00Z</td>\n",
       "    </tr>\n",
       "    <tr>\n",
       "      <th>1</th>\n",
       "      <td>UNILEVER</td>\n",
       "      <td>200</td>\n",
       "      <td>2020-10-31T11:00:00Z</td>\n",
       "    </tr>\n",
       "    <tr>\n",
       "      <th>2</th>\n",
       "      <td>DANNON</td>\n",
       "      <td>-200</td>\n",
       "      <td>2020-10-31T15:00:00Z</td>\n",
       "    </tr>\n",
       "    <tr>\n",
       "      <th>3</th>\n",
       "      <td>MILLER COORS</td>\n",
       "      <td>10000</td>\n",
       "      <td>2020-11-01T14:00:00Z</td>\n",
       "    </tr>\n",
       "    <tr>\n",
       "      <th>4</th>\n",
       "      <td>DANNON</td>\n",
       "      <td>300</td>\n",
       "      <td>2020-10-31T10:00:00Z</td>\n",
       "    </tr>\n",
       "  </tbody>\n",
       "</table>\n",
       "</div>"
      ],
      "text/plain": [
       "          payer  points             timestamp\n",
       "0        DANNON    1000  2020-11-02T14:00:00Z\n",
       "1      UNILEVER     200  2020-10-31T11:00:00Z\n",
       "2        DANNON    -200  2020-10-31T15:00:00Z\n",
       "3  MILLER COORS   10000  2020-11-01T14:00:00Z\n",
       "4        DANNON     300  2020-10-31T10:00:00Z"
      ]
     },
     "execution_count": 7,
     "metadata": {},
     "output_type": "execute_result"
    }
   ],
   "source": [
    "df"
   ]
  },
  {
   "cell_type": "code",
   "execution_count": 28,
   "metadata": {},
   "outputs": [
    {
     "data": {
      "text/plain": [
       "defaultdict(int, {'DANNON': 1100, 'UNILEVER': 200, 'MILLER COORS': 10000})"
      ]
     },
     "execution_count": 28,
     "metadata": {},
     "output_type": "execute_result"
    }
   ],
   "source": [
    "from collections import defaultdict, deque\n",
    "\n",
    "\n",
    "payer_points = defaultdict(int)\n",
    "for payer in df[\"payer\"].unique():\n",
    "    payer_points[payer]\n",
    "    \n",
    "for i, row in df.iterrows():\n",
    "    payer_points[row[\"payer\"]] += row[\"points\"]\n",
    "payer_points # the totals that we will keep track of and eventually display"
   ]
  },
  {
   "cell_type": "code",
   "execution_count": 46,
   "metadata": {},
   "outputs": [],
   "source": [
    "# we need to make a queue of transactions in order of time\n",
    "# sort by year, month, day, then time\n",
    "\"\"\"\n",
    "this method will return a deque giving us the sorted order of transactions where the oldest transaction \n",
    "is the far left and the newest is furthest right\n",
    "\"\"\"\n",
    "def getQ(df):\n",
    "    sorted_df = df.sort_values(by = \"timestamp\") # oldest is at the top \n",
    "    q = deque()\n",
    "    for i, row in sorted_df.iterrows():   \n",
    "        q.append(df.iloc[i])\n",
    "    return q"
   ]
  },
  {
   "cell_type": "code",
   "execution_count": 47,
   "metadata": {},
   "outputs": [
    {
     "data": {
      "text/plain": [
       "deque([payer                      DANNON\n",
       "       points                        300\n",
       "       timestamp    2020-10-31T10:00:00Z\n",
       "       Name: 4, dtype: object,\n",
       "       payer                    UNILEVER\n",
       "       points                        200\n",
       "       timestamp    2020-10-31T11:00:00Z\n",
       "       Name: 1, dtype: object,\n",
       "       payer                      DANNON\n",
       "       points                       -200\n",
       "       timestamp    2020-10-31T15:00:00Z\n",
       "       Name: 2, dtype: object,\n",
       "       payer                MILLER COORS\n",
       "       points                      10000\n",
       "       timestamp    2020-11-01T14:00:00Z\n",
       "       Name: 3, dtype: object,\n",
       "       payer                      DANNON\n",
       "       points                       1000\n",
       "       timestamp    2020-11-02T14:00:00Z\n",
       "       Name: 0, dtype: object])"
      ]
     },
     "execution_count": 47,
     "metadata": {},
     "output_type": "execute_result"
    }
   ],
   "source": [
    "getQ(df)"
   ]
  },
  {
   "cell_type": "code",
   "execution_count": null,
   "metadata": {},
   "outputs": [],
   "source": [
    "\n"
   ]
  },
  {
   "cell_type": "code",
   "execution_count": 36,
   "metadata": {},
   "outputs": [],
   "source": [
    "# we need a queue of transactions"
   ]
  },
  {
   "cell_type": "code",
   "execution_count": null,
   "metadata": {},
   "outputs": [],
   "source": []
  }
 ],
 "metadata": {
  "kernelspec": {
   "display_name": "Python 3.11.0 64-bit",
   "language": "python",
   "name": "python3"
  },
  "language_info": {
   "codemirror_mode": {
    "name": "ipython",
    "version": 3
   },
   "file_extension": ".py",
   "mimetype": "text/x-python",
   "name": "python",
   "nbconvert_exporter": "python",
   "pygments_lexer": "ipython3",
   "version": "3.11.0"
  },
  "orig_nbformat": 4,
  "vscode": {
   "interpreter": {
    "hash": "aee8b7b246df8f9039afb4144a1f6fd8d2ca17a180786b69acc140d282b71a49"
   }
  }
 },
 "nbformat": 4,
 "nbformat_minor": 2
}
